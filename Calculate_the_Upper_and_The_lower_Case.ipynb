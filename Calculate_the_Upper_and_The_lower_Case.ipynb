{
  "nbformat": 4,
  "nbformat_minor": 0,
  "metadata": {
    "colab": {
      "provenance": [],
      "authorship_tag": "ABX9TyMjXXpRgdp6UQ/uUa465MNC",
      "include_colab_link": true
    },
    "kernelspec": {
      "name": "python3",
      "display_name": "Python 3"
    },
    "language_info": {
      "name": "python"
    }
  },
  "cells": [
    {
      "cell_type": "markdown",
      "metadata": {
        "id": "view-in-github",
        "colab_type": "text"
      },
      "source": [
        "<a href=\"https://colab.research.google.com/github/SuryARavichan/EDYODA-ASSIGNMENT-2/blob/main/Calculate_the_Upper_and_The_lower_Case.ipynb\" target=\"_parent\"><img src=\"https://colab.research.google.com/assets/colab-badge.svg\" alt=\"Open In Colab\"/></a>"
      ]
    },
    {
      "cell_type": "markdown",
      "source": [
        "\n",
        "Write a Python function that accepts a string and calculate the number of upper case letters and lower case letters.\n",
        "\n",
        "\n",
        "\n",
        "﻿Sample String : 'The quick Brow Fox'\n",
        "\n",
        "Expected Output :\n",
        "\n",
        "No. of Upper case characters : 3\n",
        "\n",
        "No. of Lower case Characters : 12"
      ],
      "metadata": {
        "id": "5oBN6NV-2R58"
      }
    },
    {
      "cell_type": "code",
      "source": [
        "def upp_low(str):\n",
        "  s={'upper_case':0,'lower_case':0}\n",
        "  for i in str:\n",
        "    if i.isupper():\n",
        "      s['upper_case']+=1\n",
        "    elif i.islower():\n",
        "      s['lower_case']+=1\n",
        "    else:\n",
        "      pass\n",
        "  print('Sample String : ',str)\n",
        "  print('No. of Upper case characters : ',s['upper_case'])\n",
        "  print('No. of Lower case Characters : ',s['lower_case'])\n",
        "\n",
        "upp_low('The quick Brow Fox')"
      ],
      "metadata": {
        "colab": {
          "base_uri": "https://localhost:8080/"
        },
        "id": "SEgp5Dor2Uf8",
        "outputId": "34d04125-d24f-4b33-ca8e-b78da7f5511d"
      },
      "execution_count": 2,
      "outputs": [
        {
          "output_type": "stream",
          "name": "stdout",
          "text": [
            "Sample String :  The quick Brow Fox\n",
            "No. of Upper case characters :  3\n",
            "No. of Lower case Characters :  12\n"
          ]
        }
      ]
    }
  ]
}