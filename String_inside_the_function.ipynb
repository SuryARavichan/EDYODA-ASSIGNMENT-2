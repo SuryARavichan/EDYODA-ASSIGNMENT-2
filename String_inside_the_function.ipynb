{
  "nbformat": 4,
  "nbformat_minor": 0,
  "metadata": {
    "colab": {
      "provenance": [],
      "authorship_tag": "ABX9TyMleGMwNpbQd5lT0G9j+i1n",
      "include_colab_link": true
    },
    "kernelspec": {
      "name": "python3",
      "display_name": "Python 3"
    },
    "language_info": {
      "name": "python"
    }
  },
  "cells": [
    {
      "cell_type": "markdown",
      "metadata": {
        "id": "view-in-github",
        "colab_type": "text"
      },
      "source": [
        "<a href=\"https://colab.research.google.com/github/SuryARavichan/EDYODA-ASSIGNMENT-2/blob/main/String_inside_the_function.ipynb\" target=\"_parent\"><img src=\"https://colab.research.google.com/assets/colab-badge.svg\" alt=\"Open In Colab\"/></a>"
      ]
    },
    {
      "cell_type": "markdown",
      "source": [
        "Write a Python program to reverse a string.\n",
        "\n",
        "\n",
        "\n",
        "﻿Sample String : \"1234abcd\"\n",
        "\n",
        "Expected Output : \"dcba4321\""
      ],
      "metadata": {
        "id": "hzqjmJ4ezZKM"
      }
    },
    {
      "cell_type": "code",
      "source": [
        "def string_reverse(str):\n",
        "  rstr=''\n",
        "  index=len(str)\n",
        "  while index>0:\n",
        "    rstr += str [index - 1]\n",
        "    index=index-1\n",
        "  return rstr\n",
        "\n",
        "print('Expected Output :',string_reverse('1234abcd'))"
      ],
      "metadata": {
        "colab": {
          "base_uri": "https://localhost:8080/"
        },
        "id": "LquPL_C_zbDC",
        "outputId": "dcd23d38-9147-4b80-aa3f-4c98dbb5468d"
      },
      "execution_count": 9,
      "outputs": [
        {
          "output_type": "stream",
          "name": "stdout",
          "text": [
            "Expected Output : dcba4321\n"
          ]
        }
      ]
    }
  ]
}