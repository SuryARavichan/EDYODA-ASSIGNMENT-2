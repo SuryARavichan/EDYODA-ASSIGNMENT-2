{
  "nbformat": 4,
  "nbformat_minor": 0,
  "metadata": {
    "colab": {
      "provenance": [],
      "authorship_tag": "ABX9TyMyIbdsFiVj7G/9QKE3z9ft",
      "include_colab_link": true
    },
    "kernelspec": {
      "name": "python3",
      "display_name": "Python 3"
    },
    "language_info": {
      "name": "python"
    }
  },
  "cells": [
    {
      "cell_type": "markdown",
      "metadata": {
        "id": "view-in-github",
        "colab_type": "text"
      },
      "source": [
        "<a href=\"https://colab.research.google.com/github/SuryARavichan/EDYODA-ASSIGNMENT-2/blob/main/Game_of_%22Functions%22.ipynb\" target=\"_parent\"><img src=\"https://colab.research.google.com/assets/colab-badge.svg\" alt=\"Open In Colab\"/></a>"
      ]
    },
    {
      "cell_type": "markdown",
      "source": [
        "Sample List : (8, 2, 3, 0, 7)\n",
        "\n",
        "Expected Output : 20\n",
        "\n",
        "\n",
        "\n",
        "Explanation:\n",
        "\n",
        "\n",
        "\n",
        "Summation should like 8+2+3+0+7 = 20"
      ],
      "metadata": {
        "id": "Xw847DGzw5KE"
      }
    },
    {
      "cell_type": "code",
      "source": [
        "def sum(integers):\n",
        "  total = 0\n",
        "  for x in integers:\n",
        "    total=total+x\n",
        "  return total\n",
        "\n",
        "print('Expected output : ',sum((8,2,3,0,7)))"
      ],
      "metadata": {
        "colab": {
          "base_uri": "https://localhost:8080/"
        },
        "id": "QYgFZftfw8m9",
        "outputId": "0a737816-32f6-4e4b-ec5e-bffe198b41bb"
      },
      "execution_count": 11,
      "outputs": [
        {
          "output_type": "stream",
          "name": "stdout",
          "text": [
            "Expected output :  20\n"
          ]
        }
      ]
    }
  ]
}